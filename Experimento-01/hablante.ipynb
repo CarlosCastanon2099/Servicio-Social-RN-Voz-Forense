{
 "cells": [
  {
   "cell_type": "code",
   "execution_count": 1,
   "metadata": {},
   "outputs": [],
   "source": [
    "from transformers import Wav2Vec2FeatureExtractor, WavLMForXVector\n",
    "from datasets import load_dataset\n",
    "import torch\n",
    "\n",
    "# Cargamos el dataset CIEMPIESS\n",
    "dataset = load_dataset(\"ciempiess/ciempiess_test\")"
   ]
  },
  {
   "cell_type": "code",
   "execution_count": 2,
   "metadata": {},
   "outputs": [],
   "source": [
    "# Cargamos el modelo preentrenado de Hugging Face y el extractor de caracteristicas\n",
    "feature_extractor = Wav2Vec2FeatureExtractor.from_pretrained('microsoft/wavlm-base-sv')\n",
    "model = WavLMForXVector.from_pretrained('microsoft/wavlm-base-sv')\n"
   ]
  },
  {
   "cell_type": "code",
   "execution_count": 3,
   "metadata": {},
   "outputs": [
    {
     "name": "stdout",
     "output_type": "stream",
     "text": [
      "DatasetDict({\n",
      "    test: Dataset({\n",
      "        features: ['audio_id', 'audio', 'speaker_id', 'gender', 'duration', 'normalized_text'],\n",
      "        num_rows: 3558\n",
      "    })\n",
      "})\n"
     ]
    }
   ],
   "source": [
    "print(dataset)"
   ]
  },
  {
   "cell_type": "code",
   "execution_count": 3,
   "metadata": {},
   "outputs": [],
   "source": [
    "# Accedemos al subconjunto 'test' del dataset\n",
    "test_dataset = dataset['test']"
   ]
  },
  {
   "cell_type": "code",
   "execution_count": null,
   "metadata": {},
   "outputs": [],
   "source": [
    "\"\"\"\n",
    "reference_speaker_id = 'M_07'\n",
    "reference_audio = test_dataset.filter(lambda x: x[\"speaker_id\"] == reference_speaker_id)[\"audio\"][0][\"array\"]\n",
    "\n",
    "# Extraer las características del audio de referencia\n",
    "reference_input = feature_extractor(reference_audio, return_tensors=\"pt\")\n",
    "reference_embedding = model(**reference_input).embeddings\n",
    "reference_embedding = torch.nn.functional.normalize(reference_embedding, dim=-1).cpu()\n",
    "\n",
    "# Función para comparar la voz del hablante con los otros hablantes\n",
    "def compare_speakers(audio1, audio2, threshold=0.86 ):\n",
    "    cosine_sim = torch.nn.CosineSimilarity(dim=-1)\n",
    "    similarity = cosine_sim(audio1, audio2)\n",
    "    return similarity >= threshold\n",
    "\n",
    "# Comparar la voz del hablante M_07 con todos los demás hablantes\n",
    "for sample in test_dataset:\n",
    "    if sample[\"speaker_id\"] != reference_speaker_id:\n",
    "        other_audio = sample[\"audio\"][\"array\"]\n",
    "        other_input = feature_extractor(other_audio, return_tensors=\"pt\")\n",
    "        other_embedding = model(**other_input).embeddings\n",
    "        other_embedding = torch.nn.functional.normalize(other_embedding, dim=-1).cpu()\n",
    "\n",
    "        if compare_speakers(reference_embedding, other_embedding):\n",
    "            print(f\"La voz del hablante con ID {reference_speaker_id} es similar a la del hablante {sample['speaker_id']}.\")\n",
    "        else:\n",
    "            print(f\"La voz del hablante con ID {reference_speaker_id} NO coincide con la del hablante {sample['speaker_id']}.\")\n",
    "\"\"\""
   ]
  },
  {
   "cell_type": "code",
   "execution_count": 19,
   "metadata": {},
   "outputs": [
    {
     "name": "stdout",
     "output_type": "stream",
     "text": [
      "La voz del hablante con ID M_07 NO coincide con la del hablante F_01.\n",
      "La voz del hablante con ID M_07 NO coincide con la del hablante F_05.\n",
      "La voz del hablante con ID M_07 NO coincide con la del hablante F_07.\n",
      "La voz del hablante con ID M_07 NO coincide con la del hablante F_04.\n",
      "La voz del hablante con ID M_07 es similar a la del hablante M_01.\n",
      "La voz del hablante con ID M_07 NO coincide con la del hablante F_08.\n",
      "La voz del hablante con ID M_07 es similar a la del hablante M_10.\n",
      "La voz del hablante con ID M_07 NO coincide con la del hablante M_09.\n",
      "La voz del hablante con ID M_07 NO coincide con la del hablante M_03.\n",
      "La voz del hablante con ID M_07 NO coincide con la del hablante M_04.\n",
      "La voz del hablante con ID M_07 NO coincide con la del hablante F_03.\n",
      "La voz del hablante con ID M_07 NO coincide con la del hablante F_10.\n",
      "La voz del hablante con ID M_07 NO coincide con la del hablante F_06.\n",
      "La voz del hablante con ID M_07 NO coincide con la del hablante F_09.\n",
      "La voz del hablante con ID M_07 NO coincide con la del hablante M_02.\n",
      "La voz del hablante con ID M_07 NO coincide con la del hablante M_06.\n",
      "La voz del hablante con ID M_07 NO coincide con la del hablante M_08.\n",
      "La voz del hablante con ID M_07 NO coincide con la del hablante M_05.\n",
      "La voz del hablante con ID M_07 NO coincide con la del hablante F_02.\n"
     ]
    }
   ],
   "source": [
    "import librosa\n",
    "\n",
    "# Sample rate deseado (16000 Hz)\n",
    "sampling_rate = 16000\n",
    "\n",
    "# Cargamos y filtramos el audio de referencia con el sampling_rate\n",
    "reference_speaker_id = 'M_07'\n",
    "reference_audio = test_dataset.filter(lambda x: x[\"speaker_id\"] == reference_speaker_id)[\"audio\"][0][\"array\"]\n",
    "\n",
    "# Extraer las características del audio de referencia\n",
    "reference_input = feature_extractor(reference_audio, sampling_rate=sampling_rate, return_tensors=\"pt\")\n",
    "reference_embedding = model(**reference_input).embeddings\n",
    "reference_embedding = torch.nn.functional.normalize(reference_embedding, dim=-1).cpu()\n",
    "\n",
    "# Funcion para comparar la voz del hablante con los otros hablantes\n",
    "def compare_speakers(audio1, audio2, threshold=0.86):\n",
    "    cosine_sim = torch.nn.CosineSimilarity(dim=-1)\n",
    "    similarity = cosine_sim(audio1, audio2)\n",
    "    return similarity >= threshold\n",
    "\n",
    "# Lista de los hablantes ya comparados\n",
    "compared_speakers = []\n",
    "\n",
    "# Comparamos la voz del hablante M_07 con todos los demas hablantes\n",
    "for sample in test_dataset:\n",
    "    if sample[\"speaker_id\"] != reference_speaker_id and sample[\"speaker_id\"] not in compared_speakers:\n",
    "        other_audio = sample[\"audio\"][\"array\"]\n",
    "        \n",
    "        # Extraemos las caracteristicas del otro hablante asegurando el sampling_rate\n",
    "        other_input = feature_extractor(other_audio, sampling_rate=sampling_rate, return_tensors=\"pt\")\n",
    "        other_embedding = model(**other_input).embeddings\n",
    "        other_embedding = torch.nn.functional.normalize(other_embedding, dim=-1).cpu()\n",
    "\n",
    "        # Comparamos las voces\n",
    "        if compare_speakers(reference_embedding, other_embedding):\n",
    "            print(f\"La voz del hablante con ID {reference_speaker_id} es similar a la del hablante {sample['speaker_id']}.\")\n",
    "        else:\n",
    "            print(f\"La voz del hablante con ID {reference_speaker_id} NO coincide con la del hablante {sample['speaker_id']}.\")\n",
    "        \n",
    "        compared_speakers.append(sample[\"speaker_id\"])"
   ]
  },
  {
   "cell_type": "code",
   "execution_count": 4,
   "metadata": {},
   "outputs": [
    {
     "name": "stderr",
     "output_type": "stream",
     "text": [
      "c:\\Users\\mrcom\\anaconda3\\Lib\\site-packages\\torch\\nn\\functional.py:5109: UserWarning: Support for mismatched key_padding_mask and attn_mask is deprecated. Use same type for both instead.\n",
      "  warnings.warn(\n"
     ]
    },
    {
     "name": "stdout",
     "output_type": "stream",
     "text": [
      "Comparación M_01 vs M_02: Similares.\n",
      "Comparación M_01 vs M_03: Similares.\n",
      "Comparación M_01 vs M_04: No similares.\n",
      "Comparación M_01 vs M_05: Similares.\n",
      "Comparación M_01 vs M_06: Similares.\n",
      "Comparación M_01 vs M_07: Similares.\n",
      "Comparación M_01 vs M_08: No similares.\n",
      "Comparación M_02 vs M_01: Similares.\n",
      "Comparación M_02 vs M_03: Similares.\n",
      "Comparación M_02 vs M_04: Similares.\n",
      "Comparación M_02 vs M_05: Similares.\n",
      "Comparación M_02 vs M_06: Similares.\n",
      "Comparación M_02 vs M_07: No similares.\n",
      "Comparación M_02 vs M_08: No similares.\n",
      "Comparación M_03 vs M_01: Similares.\n",
      "Comparación M_03 vs M_02: Similares.\n",
      "Comparación M_03 vs M_04: Similares.\n",
      "Comparación M_03 vs M_05: Similares.\n",
      "Comparación M_03 vs M_06: Similares.\n",
      "Comparación M_03 vs M_07: No similares.\n",
      "Comparación M_03 vs M_08: No similares.\n",
      "Comparación M_04 vs M_01: No similares.\n",
      "Comparación M_04 vs M_02: Similares.\n",
      "Comparación M_04 vs M_03: Similares.\n",
      "Comparación M_04 vs M_05: Similares.\n",
      "Comparación M_04 vs M_06: Similares.\n",
      "Comparación M_04 vs M_07: No similares.\n",
      "Comparación M_04 vs M_08: No similares.\n",
      "Comparación M_05 vs M_01: Similares.\n",
      "Comparación M_05 vs M_02: Similares.\n",
      "Comparación M_05 vs M_03: Similares.\n",
      "Comparación M_05 vs M_04: Similares.\n",
      "Comparación M_05 vs M_06: Similares.\n",
      "Comparación M_05 vs M_07: No similares.\n",
      "Comparación M_05 vs M_08: No similares.\n",
      "Comparación M_06 vs M_01: Similares.\n",
      "Comparación M_06 vs M_02: Similares.\n",
      "Comparación M_06 vs M_03: Similares.\n",
      "Comparación M_06 vs M_04: Similares.\n",
      "Comparación M_06 vs M_05: Similares.\n",
      "Comparación M_06 vs M_07: No similares.\n",
      "Comparación M_06 vs M_08: No similares.\n",
      "Comparación M_07 vs M_01: Similares.\n",
      "Comparación M_07 vs M_02: No similares.\n",
      "Comparación M_07 vs M_03: No similares.\n",
      "Comparación M_07 vs M_04: No similares.\n",
      "Comparación M_07 vs M_05: No similares.\n",
      "Comparación M_07 vs M_06: No similares.\n",
      "Comparación M_07 vs M_08: No similares.\n",
      "Comparación M_08 vs M_01: No similares.\n",
      "Comparación M_08 vs M_02: No similares.\n",
      "Comparación M_08 vs M_03: No similares.\n",
      "Comparación M_08 vs M_04: No similares.\n",
      "Comparación M_08 vs M_05: No similares.\n",
      "Comparación M_08 vs M_06: No similares.\n",
      "Comparación M_08 vs M_07: No similares.\n"
     ]
    }
   ],
   "source": [
    "import librosa\n",
    "\n",
    "# Sample rate deseado (16000 Hz)\n",
    "sampling_rate = 16000\n",
    "\n",
    "# Funcion para comparar la voz del hablante con los otros hablantes\n",
    "def compare_speakers(audio1, audio2, threshold=0.86):\n",
    "    cosine_sim = torch.nn.CosineSimilarity(dim=-1)\n",
    "    similarity = cosine_sim(audio1, audio2)\n",
    "    return similarity >= threshold\n",
    "\n",
    "# Inicializamos una lista para almacenar los embeddings de los hablantes M_01 a M_09\n",
    "speakers_embeddings = {}\n",
    "speakers_ids = [f\"M_0{i}\" for i in range(1, 9)]  # Lista de IDs M_01 a M_09\n",
    "\n",
    "# Generamos los embeddings para los hablantes de referencia M_01 a M_09\n",
    "for speaker_id in speakers_ids:\n",
    "    speaker_audio = test_dataset.filter(lambda x: x[\"speaker_id\"] == speaker_id)[\"audio\"][0][\"array\"]\n",
    "    \n",
    "    # Extraer las características del audio\n",
    "    speaker_input = feature_extractor(speaker_audio, sampling_rate=sampling_rate, return_tensors=\"pt\")\n",
    "    speaker_embedding = model(**speaker_input).embeddings\n",
    "    speaker_embedding = torch.nn.functional.normalize(speaker_embedding, dim=-1).cpu()\n",
    "    \n",
    "    # Almacenar el embedding\n",
    "    speakers_embeddings[speaker_id] = speaker_embedding\n",
    "\n",
    "# Creamos una matriz de comparación vacía\n",
    "comparison_matrix = {}\n",
    "\n",
    "# Comparar cada hablante con los demás (M_01 con M_02, M_01 con M_03, etc.)\n",
    "for speaker_ref in speakers_ids:\n",
    "    comparison_matrix[speaker_ref] = {}\n",
    "    for speaker_target in speakers_ids:\n",
    "        if speaker_ref == speaker_target:\n",
    "            comparison_matrix[speaker_ref][speaker_target] = True  # La comparación con uno mismo siempre es similar\n",
    "        else:\n",
    "            # Comparamos las voces de los hablantes\n",
    "            is_similar = compare_speakers(speakers_embeddings[speaker_ref], speakers_embeddings[speaker_target])\n",
    "            comparison_matrix[speaker_ref][speaker_target] = is_similar\n",
    "            print(f\"Comparación {speaker_ref} vs {speaker_target}: {'Similares' if is_similar else 'No similares'}.\")"
   ]
  },
  {
   "cell_type": "code",
   "execution_count": 5,
   "metadata": {},
   "outputs": [
    {
     "name": "stderr",
     "output_type": "stream",
     "text": [
      "c:\\Users\\mrcom\\anaconda3\\Lib\\site-packages\\torch\\nn\\functional.py:5109: UserWarning: Support for mismatched key_padding_mask and attn_mask is deprecated. Use same type for both instead.\n",
      "  warnings.warn(\n"
     ]
    },
    {
     "data": {
      "application/vnd.jupyter.widget-view+json": {
       "model_id": "6557d5f41959456f99c540d00b79ce5e",
       "version_major": 2,
       "version_minor": 0
      },
      "text/plain": [
       "Filter:   0%|          | 0/3558 [00:00<?, ? examples/s]"
      ]
     },
     "metadata": {},
     "output_type": "display_data"
    },
    {
     "data": {
      "image/png": "[encoded data removed]",
      "text/plain": [
       "<Figure size 800x600 with 2 Axes>"
      ]
     },
     "metadata": {},
     "output_type": "display_data"
    }
   ],
   "source": [
    "import matplotlib.pyplot as plt\n",
    "import seaborn as sns\n",
    "\n",
    "# Sample rate deseado (16000 Hz)\n",
    "sampling_rate = 16000\n",
    "\n",
    "# Funcion para calcular la similitud entre dos embeddings de audio\n",
    "def get_similarity_score(audio1, audio2):\n",
    "    cosine_sim = torch.nn.CosineSimilarity(dim=-1)\n",
    "    similarity = cosine_sim(audio1, audio2)\n",
    "    return similarity.item()  # Devolvemos el valor escalar de la similitud\n",
    "\n",
    "# Inicializamos una lista para almacenar los embeddings de los hablantes M_01 a M_09\n",
    "speakers_embeddings = {}\n",
    "speakers_ids = [f\"M_0{i}\" for i in range(1, 10)]  # Lista de IDs M_01 a M_09\n",
    "\n",
    "# Generamos los embeddings para los hablantes de referencia M_01 a M_09\n",
    "for speaker_id in speakers_ids:\n",
    "    speaker_audio = test_dataset.filter(lambda x: x[\"speaker_id\"] == speaker_id)[\"audio\"][0][\"array\"]\n",
    "    \n",
    "    # Extraer las características del audio\n",
    "    speaker_input = feature_extractor(speaker_audio, sampling_rate=sampling_rate, return_tensors=\"pt\")\n",
    "    speaker_embedding = model(**speaker_input).embeddings\n",
    "    speaker_embedding = torch.nn.functional.normalize(speaker_embedding, dim=-1).cpu()\n",
    "    \n",
    "    # Almacenar el embedding\n",
    "    speakers_embeddings[speaker_id] = speaker_embedding\n",
    "\n",
    "# Creamos una matriz vacía de similitudes\n",
    "n_speakers = len(speakers_ids)\n",
    "similarity_matrix = torch.zeros((n_speakers, n_speakers))\n",
    "\n",
    "# Llenamos la matriz de similitud\n",
    "for i, speaker_ref in enumerate(speakers_ids):\n",
    "    for j, speaker_target in enumerate(speakers_ids):\n",
    "        if speaker_ref == speaker_target:\n",
    "            similarity_matrix[i, j] = 1.0  # La similitud consigo mismo es 1\n",
    "        else:\n",
    "            # Calculamos la similitud coseno entre las voces\n",
    "            score = get_similarity_score(speakers_embeddings[speaker_ref], speakers_embeddings[speaker_target])\n",
    "            similarity_matrix[i, j] = score\n",
    "\n",
    "# Convertimos la matriz a formato NumPy para graficarla\n",
    "similarity_matrix = similarity_matrix.numpy()\n",
    "\n",
    "# Graficamos la matriz con un heatmap\n",
    "plt.figure(figsize=(8, 6))\n",
    "sns.heatmap(similarity_matrix, annot=True, cmap='coolwarm', xticklabels=speakers_ids, yticklabels=speakers_ids)\n",
    "plt.title('Similitud entre hablantes (M_01 a M_09)')\n",
    "plt.xlabel('Hablante objetivo')\n",
    "plt.ylabel('Hablante de referencia')\n",
    "plt.show()"
   ]
  }
 ],
 "metadata": {
  "kernelspec": {
   "display_name": "base",
   "language": "python",
   "name": "python3"
  },
  "language_info": {
   "codemirror_mode": {
    "name": "ipython",
    "version": 3
   },
   "file_extension": ".py",
   "mimetype": "text/x-python",
   "name": "python",
   "nbconvert_exporter": "python",
   "pygments_lexer": "ipython3",
   "version": "3.11.7"
  }
 },
 "nbformat": 4,
 "nbformat_minor": 2
}
